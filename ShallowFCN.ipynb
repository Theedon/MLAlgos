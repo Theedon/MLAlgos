{
  "nbformat": 4,
  "nbformat_minor": 0,
  "metadata": {
    "colab": {
      "provenance": [],
      "authorship_tag": "ABX9TyPtfkANBn+OPccEFTnBPRjB",
      "include_colab_link": true
    },
    "kernelspec": {
      "name": "python3",
      "display_name": "Python 3"
    },
    "language_info": {
      "name": "python"
    }
  },
  "cells": [
    {
      "cell_type": "markdown",
      "metadata": {
        "id": "view-in-github",
        "colab_type": "text"
      },
      "source": [
        "<a href=\"https://colab.research.google.com/github/Theedon/MLAlgos/blob/main/ShallowFCN.ipynb\" target=\"_parent\"><img src=\"https://colab.research.google.com/assets/colab-badge.svg\" alt=\"Open In Colab\"/></a>"
      ]
    },
    {
      "cell_type": "code",
      "execution_count": 1,
      "metadata": {
        "id": "jIwJweRT_94m"
      },
      "outputs": [],
      "source": [
        "import matplotlib.pyplot as plt\n",
        "import numpy as np\n",
        "import pandas as pd\n",
        "from typing import Any\n",
        "\n",
        "class ShallowNN():\n",
        "\n",
        "\n",
        "  def __init__(self, X: np.ndarray, y:np.ndarray, layer_1_size: int = 5, layer_2_size: int = 4, output_size: int = 1):\n",
        "    self.X, self.y = X, y\n",
        "    self.m = X.shape[1]\n",
        "\n",
        "    self.W1 = np.random.randn(layer_1_size, X.shape[0]) * np.sqrt(2/X.shape[0])\n",
        "    self.W2 = np.random.randn(layer_2_size, layer_1_size) * np.sqrt(2/layer_1_size)\n",
        "    self.W3 = np.random.randn(output_size, layer_2_size) * np.sqrt(2/layer_2_size)\n",
        "\n",
        "    self.b1  = np.zeros((layer_1_size, 1))\n",
        "    self.b2 = np.zeros((layer_2_size, 1))\n",
        "    self.b3 = np.zeros((output_size, 1))\n",
        "\n",
        "    self.Z1, self.Z2, self.Z3  = np.ndarray(()), np.ndarray(()), np.ndarray(())\n",
        "    self.A1, self.A2, self.A3  = np.ndarray(()), np.ndarray(()), np.ndarray(())\n",
        "    self.cost = 0\n",
        "    self.losses: dict[int, float] = {}\n",
        "    self.accuracies: dict[int, Any] = {}\n",
        "\n",
        "\n",
        "  def activate(self, Z, func=\"relu\"):\n",
        "    if func == \"relu\":\n",
        "      return np.maximum(0, Z)\n",
        "    elif func == \"sigmoid\":\n",
        "      return 1 / (1 + np.exp(-Z))\n",
        "    elif func == \"tanh\":\n",
        "      return np.tanh(Z)\n",
        "\n",
        "    return Z\n",
        "\n",
        "  def forward_pass(self):\n",
        "    self.Z1 = np.dot(self.W1, self.X) + self.b1\n",
        "    self.A1 = self.activate(self.Z1, func=\"relu\")\n",
        "\n",
        "    self.Z2 = np.dot(self.W2, self.A1) + self.b2\n",
        "    self.A2 = self.activate(self.Z2, func=\"relu\")\n",
        "\n",
        "    self.Z3 = np.dot(self.W3, self.A2) + self.b3\n",
        "    self.A3 = self.activate(self.Z3, func=\"sigmoid\")\n",
        "\n",
        "  def calculate_loss(self, y, yhat, m: int):\n",
        "    epsilon = 1e-8\n",
        "    yhat = np.clip(yhat, epsilon, 1-epsilon)\n",
        "    cost = -np.sum((y * np.log(yhat)) + ((1 - y) * np.log(1 - yhat)))/m\n",
        "    return cost\n",
        "\n",
        "  def backward_pass(self, learning_rate: float):\n",
        "    self.cost = self.calculate_loss(self.y, self.A3, self.m)\n",
        "    dZ3 = self.A3 - self.y\n",
        "    dW3 = np.dot(dZ3, self.A2.T)/self.m\n",
        "    db3 = np.sum(dZ3, keepdims=True, axis=1)/self.m\n",
        "\n",
        "    dZ2 = np.dot(self.W3.T, dZ3) * (self.A2 > 0).astype(int)\n",
        "    dW2 = np.dot(dZ2,  self.A1.T)/self.m\n",
        "    db2 = np.sum(dZ2, keepdims = True, axis=1)/self.m\n",
        "\n",
        "    dZ1 = np.dot(self.W2.T,  dZ2) *  (self.A1 > 0).astype(int)\n",
        "    dW1 = np.dot(dZ1, self.X.T)/self.m\n",
        "    db1 = np.sum(dZ1, keepdims=True,  axis=1)/self.m\n",
        "\n",
        "    self.W3 -= learning_rate * dW3\n",
        "    self.b3 -= learning_rate * db3\n",
        "\n",
        "    self.W2 -= learning_rate * dW2\n",
        "    self.W1 -= learning_rate * dW1\n",
        "\n",
        "    self.b2 -= learning_rate * db2\n",
        "    self.b1 -= learning_rate * db1\n",
        "\n",
        "  def fit(self, learning_rate: float=0.01, n_iters: int = 10000,  verbose=True):\n",
        "    for i in range(n_iters):\n",
        "      self.forward_pass()\n",
        "      self.backward_pass(learning_rate=learning_rate)\n",
        "\n",
        "      if i % 100 == 0:\n",
        "        self.losses[i] = self.cost\n",
        "        predictions = (self.A3 > 0.5).astype(int)\n",
        "        self.accuracies[i] = np.mean(predictions == self.y) * 100\n",
        "\n",
        "        if verbose:\n",
        "          print(f\"loss after {i} iterations is {self.cost}\")\n",
        "    print(\"model trained successfully\")\n",
        "\n",
        "  def plot_curves(self):\n",
        "    loss_x = np.array([key for key in self.losses.keys()])\n",
        "    loss_y = np.array([value for value in self.losses.values()])\n",
        "    fig, ax = plt.subplots(2,1, figsize=(10,8))\n",
        "    ax[0].set_title(\"Loss Curve\")\n",
        "    ax[0].set_xlabel(\"training iteration\")\n",
        "    ax[0].set_ylabel(\"training loss\")\n",
        "    ax[0].grid()\n",
        "    ax[0].plot(loss_x,loss_y)\n",
        "\n",
        "    accuracy_x = np.array([key for key in self.accuracies.keys()])\n",
        "    accuracy_y = np.array([value for value in self.accuracies.values()])\n",
        "    ax[1].set_title(\"Accuracy Curve\")\n",
        "    ax[1].set_xlabel(\"training iteration\")\n",
        "    ax[1].set_ylabel(\"training loss\")\n",
        "    ax[1].grid()\n",
        "    ax[1].plot(accuracy_x,accuracy_y)\n",
        "\n",
        "    fig.tight_layout()\n",
        "    fig.suptitle(\"Training Visualizations\")\n",
        "    fig.show()\n",
        "    fig.savefig(\"plot.jpg\")\n",
        "\n",
        "\n",
        "\n",
        "  def predict(self, X: np.ndarray):\n",
        "    Z1 = np.dot(self.W1, X) + self.b1\n",
        "    A1 = self.activate(Z1, func=\"relu\")\n",
        "\n",
        "    Z2 = np.dot(self.W2, A1) + self.b2\n",
        "    A2 = self.activate(Z2, func=\"relu\")\n",
        "\n",
        "    Z3 = np.dot(self.W3, A2) + self.b3\n",
        "    A3 = self.activate(Z3, func=\"sigmoid\")\n",
        "\n",
        "    return (A3 > 0.5).astype(int)"
      ]
    },
    {
      "cell_type": "code",
      "source": [
        "def accuracy_score(y, yhat):\n",
        "    # Ensure the prediction and the true labels are compared element-wise\n",
        "    accuracy = np.mean(yhat == y_test) * 100\n",
        "    return accuracy"
      ],
      "metadata": {
        "id": "f-NPvxoyn352"
      },
      "execution_count": 2,
      "outputs": []
    },
    {
      "cell_type": "code",
      "source": [
        "import numpy as np\n",
        "from sklearn.model_selection import train_test_split\n",
        "\n",
        "# simple data generation\n",
        "X = np.random.rand(2, 500)  # 500 samples, 2 features\n",
        "y = (np.sum(X, axis=0) > 1).astype(int).reshape(1, 500)  # Binary target\n",
        "\n",
        "# Split into train and test sets (80% train, 20% test)\n",
        "X_train, X_test, y_train, y_test = train_test_split(X.T, y.T, test_size=0.2, random_state=42)\n",
        "\n",
        "X_train, X_test = X_train.T, X_test.T\n",
        "y_train, y_test = y_train.T, y_test.T\n",
        "\n",
        "print(\"X_train shape:\", X_train.shape)\n",
        "print(\"y_train shape:\", y_train.shape)\n",
        "print(\"X_test shape:\", X_test.shape)\n",
        "print(\"y_test shape:\", y_test.shape)"
      ],
      "metadata": {
        "id": "VUXPHU0XelYj",
        "colab": {
          "base_uri": "https://localhost:8080/"
        },
        "outputId": "8b188e53-76bd-4ac5-c55b-e89872c5e4e6"
      },
      "execution_count": 3,
      "outputs": [
        {
          "output_type": "stream",
          "name": "stdout",
          "text": [
            "X_train shape: (2, 400)\n",
            "y_train shape: (1, 400)\n",
            "X_test shape: (2, 100)\n",
            "y_test shape: (1, 100)\n"
          ]
        }
      ]
    },
    {
      "cell_type": "code",
      "source": [
        "# initialize model\n",
        "model =  ShallowNN(X_train, y_train, layer_1_size= 5, layer_2_size= 4, output_size= 1)\n",
        "\n",
        "model.fit(learning_rate=0.01, n_iters=10000, verbose=True)"
      ],
      "metadata": {
        "id": "CyWbCImse2dj",
        "colab": {
          "base_uri": "https://localhost:8080/"
        },
        "outputId": "487e2981-595d-4f5f-b2ef-0e029b5f32b0"
      },
      "execution_count": 4,
      "outputs": [
        {
          "output_type": "stream",
          "name": "stdout",
          "text": [
            "loss after 0 iterations is 1.4276104951607504\n",
            "loss after 100 iterations is 0.6967954120277252\n",
            "loss after 200 iterations is 0.6927827700160387\n",
            "loss after 300 iterations is 0.6914702195555901\n",
            "loss after 400 iterations is 0.6909565554210153\n",
            "loss after 500 iterations is 0.6907095138707278\n",
            "loss after 600 iterations is 0.6905627935154496\n",
            "loss after 700 iterations is 0.6904243597306708\n",
            "loss after 800 iterations is 0.6902891404075227\n",
            "loss after 900 iterations is 0.6901558691882081\n",
            "loss after 1000 iterations is 0.6900238216723232\n",
            "loss after 1100 iterations is 0.6898925190124645\n",
            "loss after 1200 iterations is 0.6897616454493555\n",
            "loss after 1300 iterations is 0.6896293875454543\n",
            "loss after 1400 iterations is 0.689468423322462\n",
            "loss after 1500 iterations is 0.6892987160137293\n",
            "loss after 1600 iterations is 0.689131648109853\n",
            "loss after 1700 iterations is 0.6889640616514732\n",
            "loss after 1800 iterations is 0.6887958799248429\n",
            "loss after 1900 iterations is 0.688580940467959\n",
            "loss after 2000 iterations is 0.6878255930057597\n",
            "loss after 2100 iterations is 0.6865100210794126\n",
            "loss after 2200 iterations is 0.6844998264784956\n",
            "loss after 2300 iterations is 0.6807818391588271\n",
            "loss after 2400 iterations is 0.6750118193105996\n",
            "loss after 2500 iterations is 0.6666402852190548\n",
            "loss after 2600 iterations is 0.6551386547811426\n",
            "loss after 2700 iterations is 0.639337700484492\n",
            "loss after 2800 iterations is 0.6135333599584644\n",
            "loss after 2900 iterations is 0.5782916692252185\n",
            "loss after 3000 iterations is 0.5493258542233473\n",
            "loss after 3100 iterations is 0.5222065061587299\n",
            "loss after 3200 iterations is 0.4944752671944792\n",
            "loss after 3300 iterations is 0.4665340856338955\n",
            "loss after 3400 iterations is 0.4385365053506891\n",
            "loss after 3500 iterations is 0.4104915662240785\n",
            "loss after 3600 iterations is 0.3807869126018882\n",
            "loss after 3700 iterations is 0.34612670496467307\n",
            "loss after 3800 iterations is 0.3169467721244025\n",
            "loss after 3900 iterations is 0.3001401137506612\n",
            "loss after 4000 iterations is 0.28617365164457254\n",
            "loss after 4100 iterations is 0.2735573142389929\n",
            "loss after 4200 iterations is 0.2620845845719348\n",
            "loss after 4300 iterations is 0.25154414869760067\n",
            "loss after 4400 iterations is 0.2418474596881518\n",
            "loss after 4500 iterations is 0.23290995567409525\n",
            "loss after 4600 iterations is 0.22464219605784042\n",
            "loss after 4700 iterations is 0.2169628595420603\n",
            "loss after 4800 iterations is 0.2098275119560902\n",
            "loss after 4900 iterations is 0.20319836363167185\n",
            "loss after 5000 iterations is 0.19703438367906892\n",
            "loss after 5100 iterations is 0.19129108537330686\n",
            "loss after 5200 iterations is 0.18592228742437938\n",
            "loss after 5300 iterations is 0.18089093698993036\n",
            "loss after 5400 iterations is 0.1761748900182985\n",
            "loss after 5500 iterations is 0.17173399279054813\n",
            "loss after 5600 iterations is 0.1675525803382135\n",
            "loss after 5700 iterations is 0.16360968613677684\n",
            "loss after 5800 iterations is 0.1598909864185754\n",
            "loss after 5900 iterations is 0.15636894655545197\n",
            "loss after 6000 iterations is 0.1530349139257746\n",
            "loss after 6100 iterations is 0.1498686924886431\n",
            "loss after 6200 iterations is 0.14686004613445264\n",
            "loss after 6300 iterations is 0.14399783841829328\n",
            "loss after 6400 iterations is 0.14127444557693106\n",
            "loss after 6500 iterations is 0.138685108875959\n",
            "loss after 6600 iterations is 0.13621975108404888\n",
            "loss after 6700 iterations is 0.1338731902623904\n",
            "loss after 6800 iterations is 0.13162909849481838\n",
            "loss after 6900 iterations is 0.1294801272025661\n",
            "loss after 7000 iterations is 0.12742038627075997\n",
            "loss after 7100 iterations is 0.125441471611516\n",
            "loss after 7200 iterations is 0.12354480276641504\n",
            "loss after 7300 iterations is 0.12172666165525219\n",
            "loss after 7400 iterations is 0.11997742486801101\n",
            "loss after 7500 iterations is 0.11829294299944254\n",
            "loss after 7600 iterations is 0.11666728195449223\n",
            "loss after 7700 iterations is 0.11509725477106962\n",
            "loss after 7800 iterations is 0.1135839596534408\n",
            "loss after 7900 iterations is 0.11212611168526959\n",
            "loss after 8000 iterations is 0.11071626505326958\n",
            "loss after 8100 iterations is 0.10935368436146373\n",
            "loss after 8200 iterations is 0.10803660728257763\n",
            "loss after 8300 iterations is 0.10676459886236839\n",
            "loss after 8400 iterations is 0.10553236811191173\n",
            "loss after 8500 iterations is 0.10433633642416823\n",
            "loss after 8600 iterations is 0.10318174006921028\n",
            "loss after 8700 iterations is 0.10206099845273645\n",
            "loss after 8800 iterations is 0.10097118039914392\n",
            "loss after 8900 iterations is 0.099910828484877\n",
            "loss after 9000 iterations is 0.09888124870650923\n",
            "loss after 9100 iterations is 0.0978791547200866\n",
            "loss after 9200 iterations is 0.09690278027971001\n",
            "loss after 9300 iterations is 0.09595191472387579\n",
            "loss after 9400 iterations is 0.0950252334353396\n",
            "loss after 9500 iterations is 0.0941211771866696\n",
            "loss after 9600 iterations is 0.09323935026767984\n",
            "loss after 9700 iterations is 0.09238057321814164\n",
            "loss after 9800 iterations is 0.09154171698013575\n",
            "loss after 9900 iterations is 0.0907227452723247\n",
            "model trained successfully\n"
          ]
        }
      ]
    },
    {
      "cell_type": "code",
      "source": [
        "yhat = model.predict(X_test)"
      ],
      "metadata": {
        "id": "c8PqEs08wblG"
      },
      "execution_count": 5,
      "outputs": []
    },
    {
      "cell_type": "code",
      "source": [
        "print(\"Class distribution in y_train:\", np.sum(y_train == 0), np.sum(y_train == 1))\n"
      ],
      "metadata": {
        "colab": {
          "base_uri": "https://localhost:8080/"
        },
        "id": "AXo84_7krrqK",
        "outputId": "3c30fcb4-47f3-4a41-fe24-42dc05b0db04"
      },
      "execution_count": 6,
      "outputs": [
        {
          "output_type": "stream",
          "name": "stdout",
          "text": [
            "Class distribution in y_train: 195 205\n"
          ]
        }
      ]
    },
    {
      "cell_type": "code",
      "source": [
        "print(f\"predictions are  {yhat} \\n\\n truth are  {yhat}\")"
      ],
      "metadata": {
        "id": "4J2yxKdhfRX9",
        "colab": {
          "base_uri": "https://localhost:8080/"
        },
        "outputId": "35b837d3-5427-4ea3-c376-04184a19b0c7"
      },
      "execution_count": 7,
      "outputs": [
        {
          "output_type": "stream",
          "name": "stdout",
          "text": [
            "predictions are  [[0 0 0 1 0 0 0 1 1 1 1 0 1 0 0 0 1 0 1 0 0 1 1 1 1 1 1 0 0 1 1 0 1 0 1 1\n",
            "  0 1 0 0 0 0 1 1 1 1 0 0 1 1 0 1 1 1 0 0 0 0 1 1 1 1 0 0 1 0 1 0 1 0 1 0\n",
            "  0 1 0 1 0 0 1 0 0 0 0 0 0 1 0 0 0 0 1 0 1 0 1 0 0 0 0 0]] \n",
            "\n",
            " truth are  [[0 0 0 1 0 0 0 1 1 1 1 0 1 0 0 0 1 0 1 0 0 1 1 1 1 1 1 0 0 1 1 0 1 0 1 1\n",
            "  0 1 0 0 0 0 1 1 1 1 0 0 1 1 0 1 1 1 0 0 0 0 1 1 1 1 0 0 1 0 1 0 1 0 1 0\n",
            "  0 1 0 1 0 0 1 0 0 0 0 0 0 1 0 0 0 0 1 0 1 0 1 0 0 0 0 0]]\n"
          ]
        }
      ]
    },
    {
      "cell_type": "code",
      "source": [
        "model.plot_curves()"
      ],
      "metadata": {
        "colab": {
          "base_uri": "https://localhost:8080/",
          "height": 807
        },
        "id": "Gp_kB4i1nJvA",
        "outputId": "6254195a-33e8-4ef4-878e-a297a28b7f98"
      },
      "execution_count": 8,
      "outputs": [
        {
          "output_type": "display_data",
          "data": {
            "text/plain": [
              "<Figure size 1000x800 with 2 Axes>"
            ],
            "image/png": "[encoded data removed]"
          },
          "metadata": {}
        }
      ]
    },
    {
      "cell_type": "code",
      "source": [
        "# accuracy_score(y_test.reshape(1, -1), yhat)\n",
        "accuracy = accuracy_score(y_test, yhat)\n",
        "print(f\"Accuracy score = {accuracy:.4f}\")"
      ],
      "metadata": {
        "id": "x9om15nqYn-t",
        "colab": {
          "base_uri": "https://localhost:8080/"
        },
        "outputId": "808ebf3e-1a31-4a5b-d112-44b7a153e0c1"
      },
      "execution_count": 9,
      "outputs": [
        {
          "output_type": "stream",
          "name": "stdout",
          "text": [
            "Accuracy score = 99.0000\n"
          ]
        }
      ]
    },
    {
      "cell_type": "code",
      "source": [],
      "metadata": {
        "id": "3Z98nQP20IvU"
      },
      "execution_count": 9,
      "outputs": []
    }
  ]
}